{
 "cells": [
  {
   "cell_type": "code",
   "execution_count": 4,
   "metadata": {},
   "outputs": [
    {
     "name": "stdout",
     "output_type": "stream",
     "text": [
      "33261\n"
     ]
    }
   ],
   "source": [
    "import gym\n",
    "import tensorflow as tf"
   ]
  },
  {
   "cell_type": "code",
   "execution_count": 2,
   "metadata": {
    "collapsed": true
   },
   "outputs": [],
   "source": [
    "env = gym.make('CartPole-v0')"
   ]
  },
  {
   "cell_type": "code",
   "execution_count": 6,
   "metadata": {},
   "outputs": [
    {
     "data": {
      "text/plain": [
       "'1.3.0'"
      ]
     },
     "execution_count": 6,
     "metadata": {},
     "output_type": "execute_result"
    }
   ],
   "source": [
    "def policy_gradient():\n",
    "    with tf.variable_scope('policy'):\n",
    "        params = tf.get_variable('policy_parameters', [4,2])\n",
    "        state = tf.placeholder('float', [None, 4])\n",
    "        actions = tf.placeholder('float', [None, 2])\n",
    "        advantages = tf.placeholder('float', [None, 1])\n",
    "        linear = tf.matmul(state, params) # None, 2\n",
    "        probs = tf.nn.softmax(linear) \n",
    "        good_probs = tf.reduce_sum(tf.mul(probs, actions), reduction_indices=[1])\n",
    "        eligibility = tf.log(good_probs) * advantages\n",
    "        loss = -tf.reduce_sum(eligibility)\n",
    "        optimizer = tf.train.AdamOptimizer(0.01).minimize(loss)\n",
    "        return probs, state, actions, advantages, optimizer\n",
    "        \n",
    "def value_gradient():\n",
    "    with tf.variable_scope('value'):\n",
    "        state = tf.placeholder('float', [None, 4])\n",
    "        newvals = tf.placeholder('float', [None, 1])\n",
    "        w1 = tf.get_variable('w1', [4,10])\n",
    "        b1 = tf.get_variable('b1', [10])\n",
    "        h1 = tf.nn.relu(tf.matmul(state,w1) + b1)\n",
    "        w2 = tf.get_variable('w2', [10,1])\n",
    "        b2 = tf.get_variable('b2', [1])\n",
    "        calculated = tf.matmul(h1, w2) + b2\n",
    "        diffs = calculated - newvals\n",
    "        loss = tf.nn.l2_loss(diffs)\n",
    "        optimizer = tf.train.AdamOptimizer(0.1).minimize(loss)\n",
    "        return calculated, state, newvals, optimizer, loss\n",
    "    \n",
    "def run_episode(env, policy_grad, value_grad, sess):\n",
    "    pl_calculated, pl_state, pl_actions, pl_advantages, pl_optizier = policy_gradient\n",
    "    vl_calculated, vl_state, vl_newvals, vl_optimizer, vl_loss = value_grad\n",
    "    observation = env.reset()\n",
    "    totalreward = 0\n",
    "    state = []\n",
    "    actions = []\n",
    "    advantages = []\n",
    "    transitions = []\n",
    "    update_vals = []\n",
    "    \n",
    "    for _ in range(200):\n",
    "        obs_vector = np.expand_dims(observation)\n",
    "    "
   ]
  },
  {
   "cell_type": "code",
   "execution_count": null,
   "metadata": {
    "collapsed": true
   },
   "outputs": [],
   "source": []
  }
 ],
 "metadata": {
  "kernelspec": {
   "display_name": "Python 3",
   "language": "python",
   "name": "python3"
  },
  "language_info": {
   "codemirror_mode": {
    "name": "ipython",
    "version": 3
   },
   "file_extension": ".py",
   "mimetype": "text/x-python",
   "name": "python",
   "nbconvert_exporter": "python",
   "pygments_lexer": "ipython3",
   "version": "3.6.2"
  }
 },
 "nbformat": 4,
 "nbformat_minor": 2
}
